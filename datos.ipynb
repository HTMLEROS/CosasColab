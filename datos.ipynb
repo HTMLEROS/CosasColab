{
  "cells": [
    {
      "cell_type": "markdown",
      "metadata": {
        "id": "view-in-github",
        "colab_type": "text"
      },
      "source": [
        "<a href=\"https://colab.research.google.com/github/HTMLEROS/CosasColab/blob/main/datos.ipynb\" target=\"_parent\"><img src=\"https://colab.research.google.com/assets/colab-badge.svg\" alt=\"Open In Colab\"/></a>"
      ]
    },
    {
      "cell_type": "markdown",
      "id": "92c7d701",
      "metadata": {
        "id": "92c7d701"
      },
      "source": [
        "# Trabajo numero 1"
      ]
    },
    {
      "cell_type": "markdown",
      "id": "db5ec070",
      "metadata": {
        "id": "db5ec070"
      },
      "source": [
        "# 1)\n",
        "Los formatos mas de los archivos encontrados son: csv, shapefile, KML,GeoJSON, xlsx, PDF, PNG, PPT\n",
        "\n",
        "Los datos son abiertos pero no es facil de usar en la informacion ya que algunos nos piden iniciar seciion, incluso hasta pagar par verlos (statistas y kaggle)\n",
        "\n",
        "En el caso de kaggle tambien podemos descargar un archivo .zip\n",
        "\n",
        "lo que tiene de carasteristicas shapefile ,kml,geojson tienen caracteristica como geograficas simples como puntos ,poligonos y lineas"
      ]
    },
    {
      "cell_type": "markdown",
      "id": "e7deb9c5",
      "metadata": {
        "id": "e7deb9c5"
      },
      "source": [
        "En todos los datasets se pueden encontrar sus fuentes y acceder a sus datos, eso consideramos como datos abiertos\n",
        "\n",
        "abieros: csv, xls, shapefile, KML, JSON\n",
        "cerrados: PDF, PNG, PPT"
      ]
    },
    {
      "cell_type": "markdown",
      "id": "8cbc4008",
      "metadata": {
        "id": "8cbc4008"
      },
      "source": [
        "# 2)\n",
        "• a)Datos Argentina : Los ordena segun temas generales (Agroganaderia, educacion, medio ambiente, etc) y despues los subdivide por sub-temas relacionados al tema central(agroganaderia: aves, trigo, girasol, etc).\n",
        "\n",
        "• b)Ministerio de Defensa : se dividen por temas (Relieve y suelo, Cartografia, Riesgo de desatres, etc) y despues muestra un listado con sub-temas relacionados.\n",
        "\n",
        "• c)Censo 2022 : primero se divide en: total del pais, gobiernos locales, region metropolitana de BA, ciudad autonoma de BA y en las distintas provincias. Despues en distintos sub-temas\n",
        "• d)World Data :\n",
        "\n",
        "• e)kaggle : aparece primero una barra de busqueda donde podes escribir el dataset que buscas, ahi te apareceran varios relacionados a lo que buscaste\n",
        "\n",
        "• f)Statista : en el inicio se ve una barra de busqueda para encontrar el dataset necesitado y abajo de esta se ven distintas categorias"
      ]
    },
    {
      "cell_type": "markdown",
      "source": [
        "# 3)\n",
        "Población femenina (our world in data)\n",
        "\n",
        "(Ministerio de transporte) ferroviario (estación de ferrocarril)"
      ],
      "metadata": {
        "id": "q2_Mb2kxqp-a"
      },
      "id": "q2_Mb2kxqp-a"
    },
    {
      "cell_type": "markdown",
      "source": [
        "# 4)\n",
        "\n",
        "En la informacion de los dataset en la parte de ferrocarril muestran los puntos de estaciones, las provincias donde se encuentran y los nombres de las estaciones.\n",
        "\n",
        "En la informacion de la poblacion femenina muestra el avance se la poblacion a través de los años en todos los países"
      ],
      "metadata": {
        "id": "quJhkGZ2qum5"
      },
      "id": "quJhkGZ2qum5"
    },
    {
      "cell_type": "markdown",
      "source": [
        "# 5)\n",
        "¿cual les pareció más fácil de utilizar y por qué?\n",
        "\n",
        "La pagina de cantidad de población femenina( Share of the population that is female) es fácil de usar por que al obtener información sobre el porcentaje de la población femenina la búsqueda de información es más precisa y exacta"
      ],
      "metadata": {
        "id": "W-lDAJRpq1FQ"
      },
      "id": "W-lDAJRpq1FQ"
    },
    {
      "cell_type": "markdown",
      "source": [
        "# 6)"
      ],
      "metadata": {
        "id": "SYFiZZNvqbcL"
      },
      "id": "SYFiZZNvqbcL"
    },
    {
      "cell_type": "code",
      "source": [
        "import pandas as pd\n",
        "poblacion = pd.read_csv('share-population-female.csv')\n",
        "trenes = pd. read_csv('puntos_de_transporte_ferroviario_AN070.csv')"
      ],
      "metadata": {
        "id": "N2vFQV4QcbzZ"
      },
      "id": "N2vFQV4QcbzZ",
      "execution_count": 7,
      "outputs": []
    },
    {
      "cell_type": "code",
      "source": [
        "print(\"poblacion femenina\")\n",
        "print(\"columnas / filas\")\n",
        "print(poblacion.shape)\n",
        "print(\"\")\n",
        "print('trenes')\n",
        "print(trenes.shape)"
      ],
      "metadata": {
        "colab": {
          "base_uri": "https://localhost:8080/"
        },
        "id": "AGzFG7_Mgf8L",
        "outputId": "0cf1d269-db35-409b-fa70-80cffb86aa13"
      },
      "id": "AGzFG7_Mgf8L",
      "execution_count": 8,
      "outputs": [
        {
          "output_type": "stream",
          "name": "stdout",
          "text": [
            "poblacion femenina\n",
            "columnas / filas\n",
            "(14784, 4)\n",
            "\n",
            "trenes\n",
            "(2658, 10)\n"
          ]
        }
      ]
    },
    {
      "cell_type": "code",
      "source": [
        "print(poblacion.columns)\n",
        "\n",
        "print()"
      ],
      "metadata": {
        "colab": {
          "base_uri": "https://localhost:8080/"
        },
        "id": "20s74UaOj2eU",
        "outputId": "5b8fb6bb-4f6f-49c3-b075-c38d1f0187a6"
      },
      "id": "20s74UaOj2eU",
      "execution_count": 12,
      "outputs": [
        {
          "output_type": "stream",
          "name": "stdout",
          "text": [
            "Index(['Entity', 'Code', 'Year', 'Population, female (% of total population)'], dtype='object')\n"
          ]
        }
      ]
    },
    {
      "cell_type": "code",
      "source": [
        "print(poblacion.dtypes)"
      ],
      "metadata": {
        "colab": {
          "base_uri": "https://localhost:8080/"
        },
        "id": "Q-a6NL3Dn5TF",
        "outputId": "f233bb3e-51b1-4226-98c7-241d838901b2"
      },
      "id": "Q-a6NL3Dn5TF",
      "execution_count": 13,
      "outputs": [
        {
          "output_type": "stream",
          "name": "stdout",
          "text": [
            "Entity                                         object\n",
            "Code                                           object\n",
            "Year                                            int64\n",
            "Population, female (% of total population)    float64\n",
            "dtype: object\n"
          ]
        }
      ]
    },
    {
      "cell_type": "code",
      "source": [
        "print(poblacion[\"Entity\"].value_counts())"
      ],
      "metadata": {
        "colab": {
          "base_uri": "https://localhost:8080/"
        },
        "id": "7rLcuMApn_ji",
        "outputId": "ab2e3ac0-093b-499a-f026-c602ec4a63d8"
      },
      "id": "7rLcuMApn_ji",
      "execution_count": 14,
      "outputs": [
        {
          "output_type": "stream",
          "name": "stdout",
          "text": [
            "Entity\n",
            "Afghanistan       64\n",
            "Albania           64\n",
            "Algeria           64\n",
            "American Samoa    64\n",
            "Andorra           64\n",
            "                  ..\n",
            "Vietnam           64\n",
            "World             64\n",
            "Yemen             64\n",
            "Zambia            64\n",
            "Zimbabwe          64\n",
            "Name: count, Length: 231, dtype: int64\n"
          ]
        }
      ]
    },
    {
      "cell_type": "code",
      "source": [
        "print(poblacion[\"Year\"].value_counts())"
      ],
      "metadata": {
        "colab": {
          "base_uri": "https://localhost:8080/"
        },
        "id": "i7zzreK-pVRl",
        "outputId": "ff2d2396-b250-4c55-cab5-9b29dbae8fa3"
      },
      "id": "i7zzreK-pVRl",
      "execution_count": 15,
      "outputs": [
        {
          "output_type": "stream",
          "name": "stdout",
          "text": [
            "Year\n",
            "1960    231\n",
            "1961    231\n",
            "1962    231\n",
            "1963    231\n",
            "1964    231\n",
            "       ... \n",
            "2019    231\n",
            "2020    231\n",
            "2021    231\n",
            "2022    231\n",
            "2023    231\n",
            "Name: count, Length: 64, dtype: int64\n"
          ]
        }
      ]
    }
  ],
  "metadata": {
    "kernelspec": {
      "display_name": "Python 3 (ipykernel)",
      "language": "python",
      "name": "python3"
    },
    "language_info": {
      "codemirror_mode": {
        "name": "ipython",
        "version": 3
      },
      "file_extension": ".py",
      "mimetype": "text/x-python",
      "name": "python",
      "nbconvert_exporter": "python",
      "pygments_lexer": "ipython3",
      "version": "3.11.7"
    },
    "colab": {
      "provenance": [],
      "toc_visible": true,
      "include_colab_link": true
    }
  },
  "nbformat": 4,
  "nbformat_minor": 5
}