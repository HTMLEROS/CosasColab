{
  "cells": [
    {
      "cell_type": "markdown",
      "metadata": {
        "id": "view-in-github",
        "colab_type": "text"
      },
      "source": [
        "<a href=\"https://colab.research.google.com/github/HTMLEROS/CosasColab/blob/main/datos.ipynb\" target=\"_parent\"><img src=\"https://colab.research.google.com/assets/colab-badge.svg\" alt=\"Open In Colab\"/></a>"
      ]
    },
    {
      "cell_type": "markdown",
      "id": "92c7d701",
      "metadata": {
        "id": "92c7d701"
      },
      "source": [
        "# Trabajo numero 1"
      ]
    },
    {
      "cell_type": "markdown",
      "id": "db5ec070",
      "metadata": {
        "id": "db5ec070"
      },
      "source": [
        "# 1)\n",
        "Los formatos mas de los archivos encontrados son: csv, shapefile, KML,GeoJSON, xlsx, PDF, PNG, PPT\n",
        "\n",
        "Los datos son abiertos pero no es facil de usar en la informacion ya que algunos nos piden iniciar seciion, incluso hasta pagar par verlos (statistas y kaggle)\n",
        "\n",
        "En el caso de kaggle tambien podemos descargar un archivo .zip\n",
        "\n",
        "lo que tiene de carasteristicas shapefile ,kml,geojson tienen caracteristica como geograficas simples como puntos ,poligonos y lineas"
      ]
    },
    {
      "cell_type": "markdown",
      "id": "e7deb9c5",
      "metadata": {
        "id": "e7deb9c5"
      },
      "source": [
        "En todos los datasets se pueden encontrar sus fuentes y acceder a sus datos, eso consideramos como datos abiertos\n",
        "\n",
        "abieros: csv, xls, shapefile, KML, JSON\n",
        "cerrados: PDF, PNG, PPT"
      ]
    },
    {
      "cell_type": "markdown",
      "id": "8cbc4008",
      "metadata": {
        "id": "8cbc4008"
      },
      "source": [
        "# 2)\n",
        "• a)Datos Argentina : Los ordena segun temas generales (Agroganaderia, educacion, medio ambiente, etc) y despues los subdivide por sub-temas relacionados al tema central(agroganaderia: aves, trigo, girasol, etc).\n",
        "\n",
        "• b)Ministerio de Defensa : se dividen por temas (Relieve y suelo, Cartografia, Riesgo de desatres, etc) y despues muestra un listado con sub-temas relacionados.\n",
        "\n",
        "• c)Censo 2022 : primero se divide en: total del pais, gobiernos locales, region metropolitana de BA, ciudad autonoma de BA y en las distintas provincias. Despues en distintos sub-temas\n",
        "• d)World Data :\n",
        "\n",
        "• e)kaggle : aparece primero una barra de busqueda donde podes escribir el dataset que buscas, ahi te apareceran varios relacionados a lo que buscaste\n",
        "\n",
        "• f)Statista : en el inicio se ve una barra de busqueda para encontrar el dataset necesitado y abajo de esta se ven distintas categorias"
      ]
    },
    {
      "cell_type": "markdown",
      "source": [
        "# 3)\n",
        "Población femenina (our world in data)\n",
        "\n",
        "(Ministerio de transporte) ferroviario (estación de ferrocarril)"
      ],
      "metadata": {
        "id": "q2_Mb2kxqp-a"
      },
      "id": "q2_Mb2kxqp-a"
    },
    {
      "cell_type": "markdown",
      "source": [
        "# 4)\n",
        "\n",
        "En la informacion de los dataset en la parte de ferrocarril muestran los puntos de estaciones, las provincias donde se encuentran y los nombres de las estaciones.\n",
        "\n",
        "En la informacion de la poblacion femenina muestra el avance se la poblacion a través de los años en todos los países"
      ],
      "metadata": {
        "id": "quJhkGZ2qum5"
      },
      "id": "quJhkGZ2qum5"
    },
    {
      "cell_type": "markdown",
      "source": [
        "# 5)\n",
        "¿cual les pareció más fácil de utilizar y por qué?\n",
        "\n",
        "La pagina de cantidad de población femenina( Share of the population that is female) es fácil de usar por que al obtener información sobre el porcentaje de la población femenina la búsqueda de información es más precisa y exacta"
      ],
      "metadata": {
        "id": "W-lDAJRpq1FQ"
      },
      "id": "W-lDAJRpq1FQ"
    },
    {
      "cell_type": "markdown",
      "source": [
        "# 6)"
      ],
      "metadata": {
        "id": "SYFiZZNvqbcL"
      },
      "id": "SYFiZZNvqbcL"
    },
    {
      "cell_type": "code",
      "source": [
        "import pandas as pd\n",
        "poblacion = pd.read_csv('share-population-female.csv')\n",
        "trenes = pd. read_csv('puntos_de_transporte_ferroviario_AN070.csv')"
      ],
      "metadata": {
        "id": "N2vFQV4QcbzZ"
      },
      "id": "N2vFQV4QcbzZ",
      "execution_count": 4,
      "outputs": []
    },
    {
      "cell_type": "code",
      "source": [
        "print(\"poblacion femenina\")\n",
        "print(\"columnas / filas\")\n",
        "print(poblacion.shape)\n",
        "print(\"\")\n",
        "print('trenes')\n",
        "print(trenes.shape)"
      ],
      "metadata": {
        "colab": {
          "base_uri": "https://localhost:8080/"
        },
        "id": "AGzFG7_Mgf8L",
        "outputId": "03747631-4831-45a6-a36b-2a090f70b1c1"
      },
      "id": "AGzFG7_Mgf8L",
      "execution_count": 5,
      "outputs": [
        {
          "output_type": "stream",
          "name": "stdout",
          "text": [
            "poblacion femenina\n",
            "columnas / filas\n",
            "(14784, 4)\n",
            "\n",
            "trenes\n",
            "(2658, 10)\n"
          ]
        }
      ]
    },
    {
      "cell_type": "code",
      "source": [
        "print(\"poblacion femenina\")\n",
        "print(poblacion.columns)\n",
        "print()\n",
        "print(\"trenes\")\n",
        "print(trenes.columns)"
      ],
      "metadata": {
        "colab": {
          "base_uri": "https://localhost:8080/"
        },
        "id": "20s74UaOj2eU",
        "outputId": "d7b849e1-50bd-4815-8083-e43affbac8bc"
      },
      "id": "20s74UaOj2eU",
      "execution_count": 6,
      "outputs": [
        {
          "output_type": "stream",
          "name": "stdout",
          "text": [
            "poblacion femenina\n",
            "Index(['Entity', 'Code', 'Year', 'Population, female (% of total population)'], dtype='object')\n",
            "\n",
            "trenes\n",
            "Index(['FID', 'gid', 'entidad', 'geom', 'fna', 'gna', 'nam', 'fun', 'fdc',\n",
            "       'sag'],\n",
            "      dtype='object')\n"
          ]
        }
      ]
    },
    {
      "cell_type": "code",
      "source": [
        "print(\"poblacion\")\n",
        "print(poblacion.dtypes)\n",
        "print()\n",
        "print(\"trenes\")\n",
        "print(trenes.dtypes)"
      ],
      "metadata": {
        "colab": {
          "base_uri": "https://localhost:8080/"
        },
        "id": "Q-a6NL3Dn5TF",
        "outputId": "12967b6c-7240-437a-ae31-019e1f9bf5bd"
      },
      "id": "Q-a6NL3Dn5TF",
      "execution_count": 8,
      "outputs": [
        {
          "output_type": "stream",
          "name": "stdout",
          "text": [
            "poblacion\n",
            "Entity                                         object\n",
            "Code                                           object\n",
            "Year                                            int64\n",
            "Population, female (% of total population)    float64\n",
            "dtype: object\n",
            "\n",
            "trenes\n",
            "FID        object\n",
            "gid         int64\n",
            "entidad     int64\n",
            "geom       object\n",
            "fna        object\n",
            "gna        object\n",
            "nam        object\n",
            "fun         int64\n",
            "fdc        object\n",
            "sag        object\n",
            "dtype: object\n"
          ]
        }
      ]
    },
    {
      "cell_type": "code",
      "source": [
        "print(\"poblacion\")\n",
        "print(poblacion[\"Entity\"].value_counts())\n",
        "print()\n",
        "print(poblacion[\"Year\"].value_counts())\n",
        "print()"
      ],
      "metadata": {
        "colab": {
          "base_uri": "https://localhost:8080/"
        },
        "id": "7rLcuMApn_ji",
        "outputId": "ef48847a-1595-4f2a-9f8e-4ed104c5fc48"
      },
      "id": "7rLcuMApn_ji",
      "execution_count": 20,
      "outputs": [
        {
          "output_type": "stream",
          "name": "stdout",
          "text": [
            "poblacion\n",
            "Entity\n",
            "Afghanistan       64\n",
            "Albania           64\n",
            "Algeria           64\n",
            "American Samoa    64\n",
            "Andorra           64\n",
            "                  ..\n",
            "Vietnam           64\n",
            "World             64\n",
            "Yemen             64\n",
            "Zambia            64\n",
            "Zimbabwe          64\n",
            "Name: count, Length: 231, dtype: int64\n",
            "\n",
            "Year\n",
            "1960    231\n",
            "1961    231\n",
            "1962    231\n",
            "1963    231\n",
            "1964    231\n",
            "       ... \n",
            "2019    231\n",
            "2020    231\n",
            "2021    231\n",
            "2022    231\n",
            "2023    231\n",
            "Name: count, Length: 64, dtype: int64\n",
            "\n",
            "trenes\n",
            "fna\n",
            "Estación Pilar               4\n",
            "Estación Retiro              3\n",
            "Estación Mercedes            3\n",
            "Estación San Justo           3\n",
            "Estación Santo Tomé          3\n",
            "                            ..\n",
            "Estación Ingeniero Luiggi    1\n",
            "Estación Arata               1\n",
            "Estación Boeuf               1\n",
            "Estación Alta Italia         1\n",
            "Estación Allen               1\n",
            "Name: count, Length: 2585, dtype: int64\n",
            "\n",
            "gna\n",
            "Estación       2498\n",
            "Apeadero         59\n",
            "Desvío           43\n",
            "Parador          21\n",
            "Embarcadero      17\n",
            "Parada           13\n",
            "Empalme           5\n",
            "Divisadero        1\n",
            "Name: count, dtype: int64\n",
            "\n",
            "nam\n",
            "9 de Julio          4\n",
            "Pilar               4\n",
            "San Martín          4\n",
            "Independencia       3\n",
            "Mercedes            3\n",
            "                   ..\n",
            "Laguna Yema         1\n",
            "Quetrequén          1\n",
            "Ingeniero Luiggi    1\n",
            "Arata               1\n",
            "Espín               1\n",
            "Name: count, Length: 2565, dtype: int64\n",
            "\n",
            "fun\n",
            "2    1949\n",
            "6     619\n",
            "4      90\n",
            "Name: count, dtype: int64\n",
            "\n",
            "fdc\n",
            "IGN/Ministerio de Transporte de la Nación                                                         2163\n",
            "IGN/Trenes Argentinos                                                                              325\n",
            "IGN/USIG                                                                                            42\n",
            "IGN/Sociedad de Transporte de Mendoza                                                               21\n",
            "IGN/Ferrovías                                                                                       18\n",
            "IGN/Metrovías                                                                                       17\n",
            "IIGN/Trenes Argentinos                                                                              13\n",
            "IGN/Tren Patagónico                                                                                 11\n",
            "Esri-World Imagery 2010/IGN04/IGN Dirección de Geografía/Ministerio de Transporte de la Nación       5\n",
            "IGN/Sitio Web La Trochita                                                                            4\n",
            "IGN/Parque Nacional Iguazú                                                                           4\n",
            "IGN/Trenes Argentinos Cargas/Ministerio de Transp*                                                   3\n",
            "IGN04/Ministerio de Transporte de la Nación                                                          3\n",
            "Imagery/Ministerio de Transporte de la Nación/Dir. Geografía IGN                                     3\n",
            "OSM/Ministerio de Transporte de la Nación                                                            3\n",
            "IGN04/Ferrosur                                                                                       2\n",
            "IGN/Secretaría de Turismo Villa Elisa/Ministerio                                                     2\n",
            "IGN/Ferrosur                                                                                         2\n",
            "IGN/Open Street View                                                                                 2\n",
            "Esri-world_imagery-2010/IGN01                                                                        2\n",
            "IGN04/Tren Patagónico                                                                                1\n",
            "IGN04/Trenes Argentinos                                                                              1\n",
            "Esri-world_imagery-2010/IGN01/Ministerio de Transporte                                               1\n",
            "IGN01/Ministerio de Transporte de la Nación/Dir. Geografía IGN                                       1\n",
            "IGN/Trenes Argentinos Carga/Ministerio de Transpo*                                                   1\n",
            "Esri-World_imagery/IGN01/Ministerio de Transporte de la Nación/Dir. Geografía IGN                    1\n",
            "Esri-World_imagery/IGN01//Ministerio de Transporte de la Nación/IGN Dirección de Geografía           1\n",
            "IGN04/Ministerio de Transporte de la Nación/Open Street View                                         1\n",
            "IGN01                                                                                                1\n",
            "IGN/Open Street Vieww                                                                                1\n",
            "IGN                                                                                                  1\n",
            "OSM/Open Street View                                                                                 1\n",
            "OSM/Sitio web del tren de las nubes                                                                  1\n",
            "Name: count, dtype: int64\n"
          ]
        }
      ]
    },
    {
      "cell_type": "code",
      "source": [
        "print(\"trenes\")\n",
        "print(trenes[\"fna\"].value_counts())\n",
        "print()\n",
        "print(trenes[\"gna\"].value_counts())\n",
        "print()\n",
        "print(trenes[\"nam\"].value_counts())\n",
        "print()\n",
        "print(trenes[\"fun\"].value_counts())\n",
        "print()\n",
        "print(trenes[\"fdc\"].value_counts())"
      ],
      "metadata": {
        "colab": {
          "base_uri": "https://localhost:8080/"
        },
        "id": "i7zzreK-pVRl",
        "outputId": "22d552c6-ac57-45c7-9dcb-fb07ba315149"
      },
      "id": "i7zzreK-pVRl",
      "execution_count": 21,
      "outputs": [
        {
          "output_type": "stream",
          "name": "stdout",
          "text": [
            "trenes\n",
            "fna\n",
            "Estación Pilar               4\n",
            "Estación Retiro              3\n",
            "Estación Mercedes            3\n",
            "Estación San Justo           3\n",
            "Estación Santo Tomé          3\n",
            "                            ..\n",
            "Estación Ingeniero Luiggi    1\n",
            "Estación Arata               1\n",
            "Estación Boeuf               1\n",
            "Estación Alta Italia         1\n",
            "Estación Allen               1\n",
            "Name: count, Length: 2585, dtype: int64\n",
            "\n",
            "gna\n",
            "Estación       2498\n",
            "Apeadero         59\n",
            "Desvío           43\n",
            "Parador          21\n",
            "Embarcadero      17\n",
            "Parada           13\n",
            "Empalme           5\n",
            "Divisadero        1\n",
            "Name: count, dtype: int64\n",
            "\n",
            "nam\n",
            "9 de Julio          4\n",
            "Pilar               4\n",
            "San Martín          4\n",
            "Independencia       3\n",
            "Mercedes            3\n",
            "                   ..\n",
            "Laguna Yema         1\n",
            "Quetrequén          1\n",
            "Ingeniero Luiggi    1\n",
            "Arata               1\n",
            "Espín               1\n",
            "Name: count, Length: 2565, dtype: int64\n",
            "\n",
            "fun\n",
            "2    1949\n",
            "6     619\n",
            "4      90\n",
            "Name: count, dtype: int64\n",
            "\n",
            "fdc\n",
            "IGN/Ministerio de Transporte de la Nación                                                         2163\n",
            "IGN/Trenes Argentinos                                                                              325\n",
            "IGN/USIG                                                                                            42\n",
            "IGN/Sociedad de Transporte de Mendoza                                                               21\n",
            "IGN/Ferrovías                                                                                       18\n",
            "IGN/Metrovías                                                                                       17\n",
            "IIGN/Trenes Argentinos                                                                              13\n",
            "IGN/Tren Patagónico                                                                                 11\n",
            "Esri-World Imagery 2010/IGN04/IGN Dirección de Geografía/Ministerio de Transporte de la Nación       5\n",
            "IGN/Sitio Web La Trochita                                                                            4\n",
            "IGN/Parque Nacional Iguazú                                                                           4\n",
            "IGN/Trenes Argentinos Cargas/Ministerio de Transp*                                                   3\n",
            "IGN04/Ministerio de Transporte de la Nación                                                          3\n",
            "Imagery/Ministerio de Transporte de la Nación/Dir. Geografía IGN                                     3\n",
            "OSM/Ministerio de Transporte de la Nación                                                            3\n",
            "IGN04/Ferrosur                                                                                       2\n",
            "IGN/Secretaría de Turismo Villa Elisa/Ministerio                                                     2\n",
            "IGN/Ferrosur                                                                                         2\n",
            "IGN/Open Street View                                                                                 2\n",
            "Esri-world_imagery-2010/IGN01                                                                        2\n",
            "IGN04/Tren Patagónico                                                                                1\n",
            "IGN04/Trenes Argentinos                                                                              1\n",
            "Esri-world_imagery-2010/IGN01/Ministerio de Transporte                                               1\n",
            "IGN01/Ministerio de Transporte de la Nación/Dir. Geografía IGN                                       1\n",
            "IGN/Trenes Argentinos Carga/Ministerio de Transpo*                                                   1\n",
            "Esri-World_imagery/IGN01/Ministerio de Transporte de la Nación/Dir. Geografía IGN                    1\n",
            "Esri-World_imagery/IGN01//Ministerio de Transporte de la Nación/IGN Dirección de Geografía           1\n",
            "IGN04/Ministerio de Transporte de la Nación/Open Street View                                         1\n",
            "IGN01                                                                                                1\n",
            "IGN/Open Street Vieww                                                                                1\n",
            "IGN                                                                                                  1\n",
            "OSM/Open Street View                                                                                 1\n",
            "OSM/Sitio web del tren de las nubes                                                                  1\n",
            "Name: count, dtype: int64\n"
          ]
        }
      ]
    }
  ],
  "metadata": {
    "kernelspec": {
      "display_name": "Python 3 (ipykernel)",
      "language": "python",
      "name": "python3"
    },
    "language_info": {
      "codemirror_mode": {
        "name": "ipython",
        "version": 3
      },
      "file_extension": ".py",
      "mimetype": "text/x-python",
      "name": "python",
      "nbconvert_exporter": "python",
      "pygments_lexer": "ipython3",
      "version": "3.11.7"
    },
    "colab": {
      "provenance": [],
      "include_colab_link": true
    }
  },
  "nbformat": 4,
  "nbformat_minor": 5
}